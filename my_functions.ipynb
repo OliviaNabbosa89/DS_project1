{
 "cells": [
  {
   "cell_type": "markdown",
   "metadata": {},
   "source": [
    "# Customarized functions\n",
    "* stats_description - Extract descriptive statistics between categorical and numeric features.\n",
    "* cat_ounts - Perform counts on categorical features in the data."
   ]
  },
  {
   "cell_type": "code",
   "execution_count": 1,
   "metadata": {},
   "outputs": [],
   "source": [
    "import pandas as pd\n",
    "import numpy as np"
   ]
  },
  {
   "cell_type": "code",
   "execution_count": 2,
   "metadata": {},
   "outputs": [],
   "source": [
    "def stats_description(df, col1, col2):\n",
    "    '''\n",
    "    Input: \n",
    "    df - dataframe\n",
    "    Col1 = categorical column in the df\n",
    "    col2 = numeric column column in the df\n",
    "    \n",
    "    output: \n",
    "    sats_summary = A table showing the statistical summary of features of col1 in relation col2\n",
    "    Sats_summary columns = Mean, median, standard deviation(std),maximum, minimum, 5th & 95th percentile,\n",
    "                            count of col1 and percentage share of col1\n",
    "\n",
    "    This function performs counts on categorical variables\n",
    "    1. Group the dataframe by the categorical variable in relation to a numeric varible.\n",
    "    2. Perform operation on the groupby dataframe (mean, median,std,max,min, quantiles([.5,95]))\n",
    "    3. Perform a count on the categorical column(col1) and calculate the percentage.\n",
    "    4. Merge all the statistcial features into a new dataframe\n",
    "    '''   \n",
    "    dict1 = df.groupby(col1)[col2].mean().to_dict()\n",
    "    dict2 = df.groupby(col1)[col2].median().to_dict()\n",
    "    dict3 = df.groupby(col1)[col2].std().to_dict()\n",
    "    dict4 = df.groupby(col1)[col2].max().to_dict()\n",
    "    dict5 = df.groupby(col1)[col2].min().to_dict()\n",
    "    dict6 = df.groupby(col1)[col2].quantile(.5).to_dict()\n",
    "    dict7 = df.groupby(col1)[col2].quantile(.95).to_dict()\n",
    "    dicts = [dict1, dict2, dict3, dict4, dict5,dict6,dict7]\n",
    "    result_dict = {}\n",
    "    for d in dicts:\n",
    "        for k, v in d.items():\n",
    "            try:\n",
    "                result_dict.setdefault(k,[]).extend(v)\n",
    "            except TypeError:\n",
    "                result_dict[k].append(v)\n",
    "    \n",
    "    sats_summary = pd.DataFrame(result_dict, index = ['mean_' + col2, 'median_' + col2, 'std_' + col2, 'max_' + col2, 'min_' + col2, \n",
    "                                                      '5th perc_' + col2 ,'95th perc_' + col2 ]).T\n",
    "    \n",
    "    return sats_summary"
   ]
  },
  {
   "cell_type": "code",
   "execution_count": 3,
   "metadata": {},
   "outputs": [],
   "source": [
    "def cat_counts(df,col):\n",
    "    '''\n",
    "    Function performs counts and calculates percentage shares of categorical columns\n",
    "    \n",
    "    INPUT\n",
    "    df - Dataframe [obj]\n",
    "    col - categorical column[bool,str]\n",
    "    \n",
    "    OUTPUT\n",
    "    dff - Dataframe consisting of 2 columns (COUNTS & PERCENTAGES)\n",
    "   \n",
    "    '''\n",
    "    df[col].value_counts()\n",
    "    room_dict = df[col].value_counts().to_dict()\n",
    "    room_list=[]\n",
    "    for key, value in room_dict.items():\n",
    "        temp = [key,value]\n",
    "        room_list.append(temp)\n",
    "    dff = pd.DataFrame(room_list, columns=[col,'Count'])\n",
    "    dff['Perc'] = dff['Count']/np.sum(dff['Count'])\n",
    "    \n",
    "    return dff"
   ]
  },
  {
   "cell_type": "code",
   "execution_count": null,
   "metadata": {},
   "outputs": [],
   "source": []
  }
 ],
 "metadata": {
  "kernelspec": {
   "display_name": "Python 3",
   "language": "python",
   "name": "python3"
  },
  "language_info": {
   "codemirror_mode": {
    "name": "ipython",
    "version": 3
   },
   "file_extension": ".py",
   "mimetype": "text/x-python",
   "name": "python",
   "nbconvert_exporter": "python",
   "pygments_lexer": "ipython3",
   "version": "3.7.3"
  }
 },
 "nbformat": 4,
 "nbformat_minor": 2
}
