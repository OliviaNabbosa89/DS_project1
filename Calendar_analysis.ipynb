{
 "cells": [
  {
   "cell_type": "markdown",
   "metadata": {},
   "source": [
    "# Prices and seasonality in Seattle\n",
    "## Goal:\n",
    "* Use the calendar features to understand how Airbnb prices vary during the year in Seattle.\n",
    "\n",
    "## Data:\n",
    "* Clean calendar - Preprocessed calendar data from the the Data preprocessing notebook.\n",
    "                 - Dataframe consisting of host IDs, availability and prices from Jan 2016 - Jan 2017\n",
    "\n",
    "## Questions:\n",
    "* How do the prices vary in the year (months and prices)\n",
    "* How do the prices vary in the month (Days of the week and prices)\n",
    "\n",
    "## Methods:\n",
    "* Use the stats_description function from my_functions\n",
    "* Visual inspection using matplotlib and seaborn\n",
    "\n",
    "## Requirements:\n",
    "* If not yet installed, install ipynb to use the customarized functions in the notebook"
   ]
  },
  {
   "cell_type": "markdown",
   "metadata": {},
   "source": [
    "# Import the libraries & modules"
   ]
  },
  {
   "cell_type": "code",
   "execution_count": 1,
   "metadata": {},
   "outputs": [],
   "source": [
    "import pandas as pd\n",
    "import numpy as np\n",
    "import matplotlib.pyplot as plt\n",
    "from pandas.plotting import register_matplotlib_converters\n",
    "register_matplotlib_converters()\n",
    "import seaborn as sns\n",
    "import pickle as pkl\n",
    "import folium\n",
    "from folium.plugins import HeatMap\n",
    "import numpy as np\n",
    "%matplotlib inline\n",
    "\n",
    "from ipynb.fs.full.my_functions import stats_description\n",
    "#pip install ipynb"
   ]
  },
  {
   "cell_type": "markdown",
   "metadata": {},
   "source": [
    "# Load the preprocessed data"
   ]
  },
  {
   "cell_type": "code",
   "execution_count": 2,
   "metadata": {},
   "outputs": [],
   "source": [
    "df = pd.read_pickle('Seattle_data/clean_calendar.pkl')"
   ]
  },
  {
   "cell_type": "code",
   "execution_count": 3,
   "metadata": {},
   "outputs": [
    {
     "data": {
      "text/html": [
       "<div>\n",
       "<style scoped>\n",
       "    .dataframe tbody tr th:only-of-type {\n",
       "        vertical-align: middle;\n",
       "    }\n",
       "\n",
       "    .dataframe tbody tr th {\n",
       "        vertical-align: top;\n",
       "    }\n",
       "\n",
       "    .dataframe thead th {\n",
       "        text-align: right;\n",
       "    }\n",
       "</style>\n",
       "<table border=\"1\" class=\"dataframe\">\n",
       "  <thead>\n",
       "    <tr style=\"text-align: right;\">\n",
       "      <th></th>\n",
       "      <th>listing_id</th>\n",
       "      <th>date</th>\n",
       "      <th>available</th>\n",
       "      <th>price</th>\n",
       "      <th>Year</th>\n",
       "      <th>Month</th>\n",
       "      <th>Day of Week</th>\n",
       "    </tr>\n",
       "  </thead>\n",
       "  <tbody>\n",
       "    <tr>\n",
       "      <th>0</th>\n",
       "      <td>241032</td>\n",
       "      <td>2016-01-04</td>\n",
       "      <td>t</td>\n",
       "      <td>85.0</td>\n",
       "      <td>2016</td>\n",
       "      <td>Jan</td>\n",
       "      <td>Mon</td>\n",
       "    </tr>\n",
       "    <tr>\n",
       "      <th>1</th>\n",
       "      <td>241032</td>\n",
       "      <td>2016-01-05</td>\n",
       "      <td>t</td>\n",
       "      <td>85.0</td>\n",
       "      <td>2016</td>\n",
       "      <td>Jan</td>\n",
       "      <td>Tue</td>\n",
       "    </tr>\n",
       "    <tr>\n",
       "      <th>9</th>\n",
       "      <td>241032</td>\n",
       "      <td>2016-01-13</td>\n",
       "      <td>t</td>\n",
       "      <td>85.0</td>\n",
       "      <td>2016</td>\n",
       "      <td>Jan</td>\n",
       "      <td>Wed</td>\n",
       "    </tr>\n",
       "    <tr>\n",
       "      <th>10</th>\n",
       "      <td>241032</td>\n",
       "      <td>2016-01-14</td>\n",
       "      <td>t</td>\n",
       "      <td>85.0</td>\n",
       "      <td>2016</td>\n",
       "      <td>Jan</td>\n",
       "      <td>Thu</td>\n",
       "    </tr>\n",
       "    <tr>\n",
       "      <th>14</th>\n",
       "      <td>241032</td>\n",
       "      <td>2016-01-18</td>\n",
       "      <td>t</td>\n",
       "      <td>85.0</td>\n",
       "      <td>2016</td>\n",
       "      <td>Jan</td>\n",
       "      <td>Mon</td>\n",
       "    </tr>\n",
       "  </tbody>\n",
       "</table>\n",
       "</div>"
      ],
      "text/plain": [
       "    listing_id       date available  price  Year Month Day of Week\n",
       "0       241032 2016-01-04         t   85.0  2016   Jan         Mon\n",
       "1       241032 2016-01-05         t   85.0  2016   Jan         Tue\n",
       "9       241032 2016-01-13         t   85.0  2016   Jan         Wed\n",
       "10      241032 2016-01-14         t   85.0  2016   Jan         Thu\n",
       "14      241032 2016-01-18         t   85.0  2016   Jan         Mon"
      ]
     },
     "execution_count": 3,
     "metadata": {},
     "output_type": "execute_result"
    }
   ],
   "source": [
    "df.head()"
   ]
  },
  {
   "cell_type": "code",
   "execution_count": 4,
   "metadata": {},
   "outputs": [
    {
     "name": "stdout",
     "output_type": "stream",
     "text": [
      "<class 'pandas.core.frame.DataFrame'>\n",
      "Int64Index: 934542 entries, 0 to 1393213\n",
      "Data columns (total 7 columns):\n",
      "listing_id     934542 non-null int64\n",
      "date           934542 non-null datetime64[ns]\n",
      "available      934542 non-null object\n",
      "price          934542 non-null float64\n",
      "Year           934542 non-null int64\n",
      "Month          934542 non-null object\n",
      "Day of Week    934542 non-null object\n",
      "dtypes: datetime64[ns](1), float64(1), int64(2), object(3)\n",
      "memory usage: 57.0+ MB\n"
     ]
    }
   ],
   "source": [
    "df.info()"
   ]
  },
  {
   "cell_type": "code",
   "execution_count": 5,
   "metadata": {},
   "outputs": [
    {
     "data": {
      "text/plain": [
       "array(['t'], dtype=object)"
      ]
     },
     "execution_count": 5,
     "metadata": {},
     "output_type": "execute_result"
    }
   ],
   "source": [
    "df['available'].unique()"
   ]
  },
  {
   "cell_type": "raw",
   "metadata": {},
   "source": [
    "plt.figure(figsize=(12,10))\n",
    "sns.lineplot(x='date',y='price',data = df);"
   ]
  },
  {
   "cell_type": "code",
   "execution_count": 6,
   "metadata": {},
   "outputs": [
    {
     "data": {
      "text/plain": [
       "count    934542.000000\n",
       "mean        137.944859\n",
       "std         105.062870\n",
       "min          10.000000\n",
       "25%          75.000000\n",
       "50%         109.000000\n",
       "75%         160.000000\n",
       "max        1650.000000\n",
       "Name: price, dtype: float64"
      ]
     },
     "execution_count": 6,
     "metadata": {},
     "output_type": "execute_result"
    }
   ],
   "source": [
    "df['price'].describe()"
   ]
  },
  {
   "cell_type": "code",
   "execution_count": 7,
   "metadata": {},
   "outputs": [
    {
     "data": {
      "text/plain": [
       "array(['Mon', 'Tue', 'Wed', 'Thu', 'Sun', 'Fri', 'Sat'], dtype=object)"
      ]
     },
     "execution_count": 7,
     "metadata": {},
     "output_type": "execute_result"
    }
   ],
   "source": [
    "df['Day of Week'].unique()"
   ]
  },
  {
   "cell_type": "markdown",
   "metadata": {},
   "source": [
    "# Prices in the week"
   ]
  },
  {
   "cell_type": "code",
   "execution_count": 8,
   "metadata": {},
   "outputs": [
    {
     "data": {
      "text/html": [
       "<div>\n",
       "<style scoped>\n",
       "    .dataframe tbody tr th:only-of-type {\n",
       "        vertical-align: middle;\n",
       "    }\n",
       "\n",
       "    .dataframe tbody tr th {\n",
       "        vertical-align: top;\n",
       "    }\n",
       "\n",
       "    .dataframe thead th {\n",
       "        text-align: right;\n",
       "    }\n",
       "</style>\n",
       "<table border=\"1\" class=\"dataframe\">\n",
       "  <thead>\n",
       "    <tr style=\"text-align: right;\">\n",
       "      <th></th>\n",
       "      <th>mean_price</th>\n",
       "      <th>median_price</th>\n",
       "      <th>std_price</th>\n",
       "      <th>max_price</th>\n",
       "      <th>min_price</th>\n",
       "      <th>5th perc_price</th>\n",
       "      <th>95th perc_price</th>\n",
       "    </tr>\n",
       "  </thead>\n",
       "  <tbody>\n",
       "    <tr>\n",
       "      <th>Fri</th>\n",
       "      <td>143.036294</td>\n",
       "      <td>111.0</td>\n",
       "      <td>107.347692</td>\n",
       "      <td>1650.0</td>\n",
       "      <td>20.0</td>\n",
       "      <td>111.0</td>\n",
       "      <td>350.0</td>\n",
       "    </tr>\n",
       "    <tr>\n",
       "      <th>Mon</th>\n",
       "      <td>135.676414</td>\n",
       "      <td>105.0</td>\n",
       "      <td>104.007297</td>\n",
       "      <td>1650.0</td>\n",
       "      <td>10.0</td>\n",
       "      <td>105.0</td>\n",
       "      <td>325.0</td>\n",
       "    </tr>\n",
       "    <tr>\n",
       "      <th>Sat</th>\n",
       "      <td>143.202136</td>\n",
       "      <td>113.0</td>\n",
       "      <td>107.441564</td>\n",
       "      <td>1650.0</td>\n",
       "      <td>20.0</td>\n",
       "      <td>113.0</td>\n",
       "      <td>350.0</td>\n",
       "    </tr>\n",
       "    <tr>\n",
       "      <th>Sun</th>\n",
       "      <td>136.459941</td>\n",
       "      <td>105.0</td>\n",
       "      <td>104.225783</td>\n",
       "      <td>1650.0</td>\n",
       "      <td>20.0</td>\n",
       "      <td>105.0</td>\n",
       "      <td>325.0</td>\n",
       "    </tr>\n",
       "    <tr>\n",
       "      <th>Thu</th>\n",
       "      <td>136.476032</td>\n",
       "      <td>105.0</td>\n",
       "      <td>104.707416</td>\n",
       "      <td>1650.0</td>\n",
       "      <td>12.0</td>\n",
       "      <td>105.0</td>\n",
       "      <td>333.0</td>\n",
       "    </tr>\n",
       "    <tr>\n",
       "      <th>Tue</th>\n",
       "      <td>135.408764</td>\n",
       "      <td>105.0</td>\n",
       "      <td>103.762102</td>\n",
       "      <td>1650.0</td>\n",
       "      <td>20.0</td>\n",
       "      <td>105.0</td>\n",
       "      <td>325.0</td>\n",
       "    </tr>\n",
       "    <tr>\n",
       "      <th>Wed</th>\n",
       "      <td>135.447880</td>\n",
       "      <td>105.0</td>\n",
       "      <td>103.555339</td>\n",
       "      <td>1650.0</td>\n",
       "      <td>20.0</td>\n",
       "      <td>105.0</td>\n",
       "      <td>325.0</td>\n",
       "    </tr>\n",
       "  </tbody>\n",
       "</table>\n",
       "</div>"
      ],
      "text/plain": [
       "     mean_price  median_price   std_price  max_price  min_price  \\\n",
       "Fri  143.036294         111.0  107.347692     1650.0       20.0   \n",
       "Mon  135.676414         105.0  104.007297     1650.0       10.0   \n",
       "Sat  143.202136         113.0  107.441564     1650.0       20.0   \n",
       "Sun  136.459941         105.0  104.225783     1650.0       20.0   \n",
       "Thu  136.476032         105.0  104.707416     1650.0       12.0   \n",
       "Tue  135.408764         105.0  103.762102     1650.0       20.0   \n",
       "Wed  135.447880         105.0  103.555339     1650.0       20.0   \n",
       "\n",
       "     5th perc_price  95th perc_price  \n",
       "Fri           111.0            350.0  \n",
       "Mon           105.0            325.0  \n",
       "Sat           113.0            350.0  \n",
       "Sun           105.0            325.0  \n",
       "Thu           105.0            333.0  \n",
       "Tue           105.0            325.0  \n",
       "Wed           105.0            325.0  "
      ]
     },
     "execution_count": 8,
     "metadata": {},
     "output_type": "execute_result"
    },
    {
     "data": {
      "image/png": "[encoded data removed]",
      "text/plain": [
       "<Figure size 720x576 with 1 Axes>"
      ]
     },
     "metadata": {
      "needs_background": "light"
     },
     "output_type": "display_data"
    }
   ],
   "source": [
    "# Barplot\n",
    "plt.figure(figsize=(10, 8))\n",
    "ax = sns.barplot(x=\"Day of Week\", y=\"price\",data=df,palette='viridis');\n",
    "plt.title('The average price per day of the week in Seattle (Year 2016)');\n",
    "\n",
    "# Pass df, col1 and col2 in the stats_description function\n",
    "stats_description(df,\"Day of Week\",\"price\")"
   ]
  },
  {
   "cell_type": "markdown",
   "metadata": {},
   "source": [
    "## Findings:\n",
    "* On avearge the prices are highest on Friday and Saturday.\n",
    " This is expected because people tend to go for weekend get-aways hence a slight increase in the demand for accomodation.\n",
    "* The prices from Monday to Thursday are relatively lower and fixed compared with the former."
   ]
  },
  {
   "cell_type": "markdown",
   "metadata": {},
   "source": [
    "# Prices in the month"
   ]
  },
  {
   "cell_type": "code",
   "execution_count": 9,
   "metadata": {},
   "outputs": [
    {
     "data": {
      "text/html": [
       "<div>\n",
       "<style scoped>\n",
       "    .dataframe tbody tr th:only-of-type {\n",
       "        vertical-align: middle;\n",
       "    }\n",
       "\n",
       "    .dataframe tbody tr th {\n",
       "        vertical-align: top;\n",
       "    }\n",
       "\n",
       "    .dataframe thead th {\n",
       "        text-align: right;\n",
       "    }\n",
       "</style>\n",
       "<table border=\"1\" class=\"dataframe\">\n",
       "  <thead>\n",
       "    <tr style=\"text-align: right;\">\n",
       "      <th></th>\n",
       "      <th>mean_price</th>\n",
       "      <th>median_price</th>\n",
       "      <th>std_price</th>\n",
       "      <th>max_price</th>\n",
       "      <th>min_price</th>\n",
       "      <th>5th perc_price</th>\n",
       "      <th>95th perc_price</th>\n",
       "    </tr>\n",
       "  </thead>\n",
       "  <tbody>\n",
       "    <tr>\n",
       "      <th>Apr</th>\n",
       "      <td>135.097005</td>\n",
       "      <td>110.0</td>\n",
       "      <td>98.232098</td>\n",
       "      <td>1099.0</td>\n",
       "      <td>20.0</td>\n",
       "      <td>110.0</td>\n",
       "      <td>300.0</td>\n",
       "    </tr>\n",
       "    <tr>\n",
       "      <th>Aug</th>\n",
       "      <td>150.656594</td>\n",
       "      <td>114.0</td>\n",
       "      <td>118.754189</td>\n",
       "      <td>1250.0</td>\n",
       "      <td>20.0</td>\n",
       "      <td>114.0</td>\n",
       "      <td>399.0</td>\n",
       "    </tr>\n",
       "    <tr>\n",
       "      <th>Dec</th>\n",
       "      <td>137.251835</td>\n",
       "      <td>109.0</td>\n",
       "      <td>105.101659</td>\n",
       "      <td>1650.0</td>\n",
       "      <td>20.0</td>\n",
       "      <td>109.0</td>\n",
       "      <td>325.0</td>\n",
       "    </tr>\n",
       "    <tr>\n",
       "      <th>Feb</th>\n",
       "      <td>124.293927</td>\n",
       "      <td>100.0</td>\n",
       "      <td>91.550076</td>\n",
       "      <td>1000.0</td>\n",
       "      <td>20.0</td>\n",
       "      <td>100.0</td>\n",
       "      <td>275.0</td>\n",
       "    </tr>\n",
       "    <tr>\n",
       "      <th>Jan</th>\n",
       "      <td>122.912176</td>\n",
       "      <td>99.0</td>\n",
       "      <td>88.708143</td>\n",
       "      <td>1000.0</td>\n",
       "      <td>12.0</td>\n",
       "      <td>99.0</td>\n",
       "      <td>275.0</td>\n",
       "    </tr>\n",
       "    <tr>\n",
       "      <th>Jul</th>\n",
       "      <td>152.094150</td>\n",
       "      <td>115.0</td>\n",
       "      <td>120.078098</td>\n",
       "      <td>1240.0</td>\n",
       "      <td>20.0</td>\n",
       "      <td>115.0</td>\n",
       "      <td>400.0</td>\n",
       "    </tr>\n",
       "    <tr>\n",
       "      <th>Jun</th>\n",
       "      <td>147.473137</td>\n",
       "      <td>110.0</td>\n",
       "      <td>112.481803</td>\n",
       "      <td>1099.0</td>\n",
       "      <td>20.0</td>\n",
       "      <td>110.0</td>\n",
       "      <td>375.0</td>\n",
       "    </tr>\n",
       "    <tr>\n",
       "      <th>Mar</th>\n",
       "      <td>128.644488</td>\n",
       "      <td>100.0</td>\n",
       "      <td>94.371410</td>\n",
       "      <td>1099.0</td>\n",
       "      <td>20.0</td>\n",
       "      <td>100.0</td>\n",
       "      <td>285.0</td>\n",
       "    </tr>\n",
       "    <tr>\n",
       "      <th>May</th>\n",
       "      <td>139.538183</td>\n",
       "      <td>110.0</td>\n",
       "      <td>102.863280</td>\n",
       "      <td>1099.0</td>\n",
       "      <td>20.0</td>\n",
       "      <td>110.0</td>\n",
       "      <td>325.0</td>\n",
       "    </tr>\n",
       "    <tr>\n",
       "      <th>Nov</th>\n",
       "      <td>135.688738</td>\n",
       "      <td>106.0</td>\n",
       "      <td>104.264654</td>\n",
       "      <td>1650.0</td>\n",
       "      <td>10.0</td>\n",
       "      <td>106.0</td>\n",
       "      <td>315.0</td>\n",
       "    </tr>\n",
       "    <tr>\n",
       "      <th>Oct</th>\n",
       "      <td>137.031939</td>\n",
       "      <td>109.0</td>\n",
       "      <td>104.491505</td>\n",
       "      <td>1650.0</td>\n",
       "      <td>20.0</td>\n",
       "      <td>109.0</td>\n",
       "      <td>320.0</td>\n",
       "    </tr>\n",
       "    <tr>\n",
       "      <th>Sep</th>\n",
       "      <td>143.255949</td>\n",
       "      <td>110.0</td>\n",
       "      <td>108.804290</td>\n",
       "      <td>1450.0</td>\n",
       "      <td>20.0</td>\n",
       "      <td>110.0</td>\n",
       "      <td>350.0</td>\n",
       "    </tr>\n",
       "  </tbody>\n",
       "</table>\n",
       "</div>"
      ],
      "text/plain": [
       "     mean_price  median_price   std_price  max_price  min_price  \\\n",
       "Apr  135.097005         110.0   98.232098     1099.0       20.0   \n",
       "Aug  150.656594         114.0  118.754189     1250.0       20.0   \n",
       "Dec  137.251835         109.0  105.101659     1650.0       20.0   \n",
       "Feb  124.293927         100.0   91.550076     1000.0       20.0   \n",
       "Jan  122.912176          99.0   88.708143     1000.0       12.0   \n",
       "Jul  152.094150         115.0  120.078098     1240.0       20.0   \n",
       "Jun  147.473137         110.0  112.481803     1099.0       20.0   \n",
       "Mar  128.644488         100.0   94.371410     1099.0       20.0   \n",
       "May  139.538183         110.0  102.863280     1099.0       20.0   \n",
       "Nov  135.688738         106.0  104.264654     1650.0       10.0   \n",
       "Oct  137.031939         109.0  104.491505     1650.0       20.0   \n",
       "Sep  143.255949         110.0  108.804290     1450.0       20.0   \n",
       "\n",
       "     5th perc_price  95th perc_price  \n",
       "Apr           110.0            300.0  \n",
       "Aug           114.0            399.0  \n",
       "Dec           109.0            325.0  \n",
       "Feb           100.0            275.0  \n",
       "Jan            99.0            275.0  \n",
       "Jul           115.0            400.0  \n",
       "Jun           110.0            375.0  \n",
       "Mar           100.0            285.0  \n",
       "May           110.0            325.0  \n",
       "Nov           106.0            315.0  \n",
       "Oct           109.0            320.0  \n",
       "Sep           110.0            350.0  "
      ]
     },
     "execution_count": 9,
     "metadata": {},
     "output_type": "execute_result"
    },
    {
     "data": {
      "image/png": "[encoded data removed]",
      "text/plain": [
       "<Figure size 720x576 with 1 Axes>"
      ]
     },
     "metadata": {
      "needs_background": "light"
     },
     "output_type": "display_data"
    }
   ],
   "source": [
    "# Barplot\n",
    "plt.figure(figsize=(10,8))\n",
    "ax = sns.barplot(x=\"Month\", y=\"price\",data=df,palette='Set2');\n",
    "plt.title('The average price per month in Seattle (Year 2016)');\n",
    "\n",
    "# Pass df, col1 and col2 in the stats_description function\n",
    "stats_description(df,\"Month\",\"price\")"
   ]
  },
  {
   "cell_type": "markdown",
   "metadata": {},
   "source": [
    "## Findings:\n",
    "* On average prices are highest in July. This is expected since this is the peak of the summer season.\n",
    "* On average prices are lowest in January and February. \n",
    "  This is expected since these are winter months with less out-door activities and holidays hence relatively less travels and demand for accomodation."
   ]
  },
  {
   "cell_type": "markdown",
   "metadata": {},
   "source": [
    "# Prices in different years"
   ]
  },
  {
   "cell_type": "code",
   "execution_count": 10,
   "metadata": {},
   "outputs": [
    {
     "data": {
      "text/html": [
       "<div>\n",
       "<style scoped>\n",
       "    .dataframe tbody tr th:only-of-type {\n",
       "        vertical-align: middle;\n",
       "    }\n",
       "\n",
       "    .dataframe tbody tr th {\n",
       "        vertical-align: top;\n",
       "    }\n",
       "\n",
       "    .dataframe thead th {\n",
       "        text-align: right;\n",
       "    }\n",
       "</style>\n",
       "<table border=\"1\" class=\"dataframe\">\n",
       "  <thead>\n",
       "    <tr style=\"text-align: right;\">\n",
       "      <th></th>\n",
       "      <th>mean_price</th>\n",
       "      <th>median_price</th>\n",
       "      <th>std_price</th>\n",
       "      <th>max_price</th>\n",
       "      <th>min_price</th>\n",
       "      <th>5th perc_price</th>\n",
       "      <th>95th perc_price</th>\n",
       "    </tr>\n",
       "  </thead>\n",
       "  <tbody>\n",
       "    <tr>\n",
       "      <th>2016</th>\n",
       "      <td>137.951375</td>\n",
       "      <td>109.0</td>\n",
       "      <td>105.065230</td>\n",
       "      <td>1650.0</td>\n",
       "      <td>10.0</td>\n",
       "      <td>109.0</td>\n",
       "      <td>333.00</td>\n",
       "    </tr>\n",
       "    <tr>\n",
       "      <th>2017</th>\n",
       "      <td>136.882590</td>\n",
       "      <td>105.0</td>\n",
       "      <td>104.681152</td>\n",
       "      <td>1000.0</td>\n",
       "      <td>20.0</td>\n",
       "      <td>105.0</td>\n",
       "      <td>345.45</td>\n",
       "    </tr>\n",
       "  </tbody>\n",
       "</table>\n",
       "</div>"
      ],
      "text/plain": [
       "      mean_price  median_price   std_price  max_price  min_price  \\\n",
       "2016  137.951375         109.0  105.065230     1650.0       10.0   \n",
       "2017  136.882590         105.0  104.681152     1000.0       20.0   \n",
       "\n",
       "      5th perc_price  95th perc_price  \n",
       "2016           109.0           333.00  \n",
       "2017           105.0           345.45  "
      ]
     },
     "execution_count": 10,
     "metadata": {},
     "output_type": "execute_result"
    }
   ],
   "source": [
    "stats_description(df,\"Year\",\"price\")"
   ]
  },
  {
   "cell_type": "markdown",
   "metadata": {},
   "source": [
    "## Findings\n",
    "* It is hard to compare the prices in 2016 and 2017 because there is only 1 month in 2017."
   ]
  },
  {
   "cell_type": "markdown",
   "metadata": {},
   "source": [
    "# Prices on different days in relation to months"
   ]
  },
  {
   "cell_type": "code",
   "execution_count": 11,
   "metadata": {},
   "outputs": [
    {
     "data": {
      "image/png": "[encoded data removed]",
      "text/plain": [
       "<Figure size 720x576 with 1 Axes>"
      ]
     },
     "metadata": {
      "needs_background": "light"
     },
     "output_type": "display_data"
    }
   ],
   "source": [
    "plt.figure(figsize=(10,8))\n",
    "sns.barplot(x='Month',y='price',data=df,hue='Day of Week',palette='gist_rainbow')\n",
    "plt.legend(bbox_to_anchor=(1.05, 1), loc=2, borderaxespad=0.);"
   ]
  },
  {
   "cell_type": "markdown",
   "metadata": {},
   "source": [
    "# Prices in different months in relation to days"
   ]
  },
  {
   "cell_type": "code",
   "execution_count": 12,
   "metadata": {},
   "outputs": [
    {
     "data": {
      "image/png": "[encoded data removed]",
      "text/plain": [
       "<Figure size 720x576 with 1 Axes>"
      ]
     },
     "metadata": {
      "needs_background": "light"
     },
     "output_type": "display_data"
    }
   ],
   "source": [
    "plt.figure(figsize=(10,8))\n",
    "sns.barplot(x='Day of Week',y='price',data=df,hue='Month',palette='prism')\n",
    "plt.legend(bbox_to_anchor=(1.05, 1), loc=2, borderaxespad=0.);"
   ]
  },
  {
   "cell_type": "code",
   "execution_count": null,
   "metadata": {},
   "outputs": [],
   "source": []
  },
  {
   "cell_type": "code",
   "execution_count": null,
   "metadata": {},
   "outputs": [],
   "source": []
  },
  {
   "cell_type": "code",
   "execution_count": null,
   "metadata": {},
   "outputs": [],
   "source": []
  }
 ],
 "metadata": {
  "kernelspec": {
   "display_name": "Python 3",
   "language": "python",
   "name": "python3"
  },
  "language_info": {
   "codemirror_mode": {
    "name": "ipython",
    "version": 3
   },
   "file_extension": ".py",
   "mimetype": "text/x-python",
   "name": "python",
   "nbconvert_exporter": "python",
   "pygments_lexer": "ipython3",
   "version": "3.7.3"
  }
 },
 "nbformat": 4,
 "nbformat_minor": 2
}
