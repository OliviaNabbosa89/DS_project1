{
 "cells": [
  {
   "cell_type": "markdown",
   "metadata": {},
   "source": [
    "# Business Understanding\n",
    "## How do the listing prices vary during the calendar?\n",
    "* To answer this question, I analyse the calendar data from Seattle Airbnb open data from 2016."
   ]
  },
  {
   "cell_type": "code",
   "execution_count": 1,
   "metadata": {},
   "outputs": [],
   "source": [
    "# Import neccessary libraries\n",
    "import pandas as pd\n",
    "import numpy as np\n",
    "import matplotlib.pyplot as plt\n",
    "from pandas.plotting import register_matplotlib_converters\n",
    "register_matplotlib_converters()\n",
    "import seaborn as sns\n",
    "import pickle as pkl\n",
    "import folium\n",
    "from folium.plugins import HeatMap\n",
    "import numpy as np\n",
    "%matplotlib inline"
   ]
  },
  {
   "cell_type": "code",
   "execution_count": 2,
   "metadata": {},
   "outputs": [],
   "source": [
    "#If you have not yet installed ipynb,uncomment the line below first\n",
    "#!pip install ipynb\n",
    "# Import customarized functions from my_functions notebook\n",
    "from ipynb.fs.full.my_functions import cat_counts\n",
    "from ipynb.fs.full.my_functions import stats_description"
   ]
  },
  {
   "cell_type": "markdown",
   "metadata": {},
   "source": [
    "# Data Understanding"
   ]
  },
  {
   "cell_type": "code",
   "execution_count": 3,
   "metadata": {},
   "outputs": [
    {
     "data": {
      "text/html": [
       "<div>\n",
       "<style scoped>\n",
       "    .dataframe tbody tr th:only-of-type {\n",
       "        vertical-align: middle;\n",
       "    }\n",
       "\n",
       "    .dataframe tbody tr th {\n",
       "        vertical-align: top;\n",
       "    }\n",
       "\n",
       "    .dataframe thead th {\n",
       "        text-align: right;\n",
       "    }\n",
       "</style>\n",
       "<table border=\"1\" class=\"dataframe\">\n",
       "  <thead>\n",
       "    <tr style=\"text-align: right;\">\n",
       "      <th></th>\n",
       "      <th>listing_id</th>\n",
       "      <th>date</th>\n",
       "      <th>available</th>\n",
       "      <th>price</th>\n",
       "    </tr>\n",
       "  </thead>\n",
       "  <tbody>\n",
       "    <tr>\n",
       "      <th>0</th>\n",
       "      <td>241032</td>\n",
       "      <td>2016-01-04</td>\n",
       "      <td>t</td>\n",
       "      <td>$85.00</td>\n",
       "    </tr>\n",
       "    <tr>\n",
       "      <th>1</th>\n",
       "      <td>241032</td>\n",
       "      <td>2016-01-05</td>\n",
       "      <td>t</td>\n",
       "      <td>$85.00</td>\n",
       "    </tr>\n",
       "    <tr>\n",
       "      <th>2</th>\n",
       "      <td>241032</td>\n",
       "      <td>2016-01-06</td>\n",
       "      <td>f</td>\n",
       "      <td>NaN</td>\n",
       "    </tr>\n",
       "    <tr>\n",
       "      <th>3</th>\n",
       "      <td>241032</td>\n",
       "      <td>2016-01-07</td>\n",
       "      <td>f</td>\n",
       "      <td>NaN</td>\n",
       "    </tr>\n",
       "    <tr>\n",
       "      <th>4</th>\n",
       "      <td>241032</td>\n",
       "      <td>2016-01-08</td>\n",
       "      <td>f</td>\n",
       "      <td>NaN</td>\n",
       "    </tr>\n",
       "  </tbody>\n",
       "</table>\n",
       "</div>"
      ],
      "text/plain": [
       "   listing_id        date available   price\n",
       "0      241032  2016-01-04         t  $85.00\n",
       "1      241032  2016-01-05         t  $85.00\n",
       "2      241032  2016-01-06         f     NaN\n",
       "3      241032  2016-01-07         f     NaN\n",
       "4      241032  2016-01-08         f     NaN"
      ]
     },
     "execution_count": 3,
     "metadata": {},
     "output_type": "execute_result"
    }
   ],
   "source": [
    "df = pd.read_csv('Seattle_data/calendar.csv')\n",
    "df.head()"
   ]
  },
  {
   "cell_type": "code",
   "execution_count": 4,
   "metadata": {},
   "outputs": [
    {
     "name": "stdout",
     "output_type": "stream",
     "text": [
      "<class 'pandas.core.frame.DataFrame'>\n",
      "RangeIndex: 1393570 entries, 0 to 1393569\n",
      "Data columns (total 4 columns):\n",
      "listing_id    1393570 non-null int64\n",
      "date          1393570 non-null object\n",
      "available     1393570 non-null object\n",
      "price         934542 non-null object\n",
      "dtypes: int64(1), object(3)\n",
      "memory usage: 42.5+ MB\n"
     ]
    }
   ],
   "source": [
    "# Summary of the dataframe\n",
    "df.info()"
   ]
  },
  {
   "cell_type": "markdown",
   "metadata": {},
   "source": [
    "* We see that the price column is registered as an object and not as a float or int.\n",
    "* This means that the price is a categorical column.\n",
    "* We shall convert it to a numeric feature first before carrying out the analysis."
   ]
  },
  {
   "cell_type": "code",
   "execution_count": 5,
   "metadata": {},
   "outputs": [
    {
     "data": {
      "text/plain": [
       "False    934542\n",
       "True     459028\n",
       "Name: price, dtype: int64"
      ]
     },
     "execution_count": 5,
     "metadata": {},
     "output_type": "execute_result"
    }
   ],
   "source": [
    "# The price column is missing some values.\n",
    "# I will do a missing values count first.\n",
    "df['price'].isnull().value_counts()"
   ]
  },
  {
   "cell_type": "markdown",
   "metadata": {},
   "source": [
    "# Data Preparation\n",
    "* In this section, I will start by converting the price column into a numeric feature by removing the dollar sign\n",
    "* The number of missing prices is very large.\n",
    "* Filling the missing values with the mean prices would have been a good idea but this will alter the meaning of the data.\n",
    "* Missing prices for a given a listing id might mean 2 things; 1. the host had no guests, hence no price offered or 2. the host had a long stay guest.\n",
    "* Based on these reasons, I will drop all rows with missing prices.\n",
    "* Convert the date column from an object to a datetime \n",
    "* We shall then process to create features from the date column (day of the week, month and year).\n",
    "* All the steps above will be performed in the clean_calendar function below."
   ]
  },
  {
   "cell_type": "code",
   "execution_count": 6,
   "metadata": {},
   "outputs": [],
   "source": [
    "def clean_calendar(df):\n",
    "    '''\n",
    "    INPUT\n",
    "    df - pandas dataframe \n",
    "    \n",
    "    OUTPUT\n",
    "    clean_df - A dataframe with mssing values removed or interpolated\n",
    "    \n",
    "    This function cleans df using the following steps to produce X and y:\n",
    "    1. Drop all the rows with no prices\n",
    "    2. Remove the dollar sign and convert the price column into a numeric feature.\n",
    "    3. Convert the date column from an object to a datetime \n",
    "    4. Create calendar features from the date column\n",
    "    5. Convert the dat of week to the name of the day instead of a number\n",
    "    6. Convert the month to the name of the month instead of a number\n",
    "    7. Save a new dataframe.\n",
    "    '''\n",
    "    #Remove rows with missing price\n",
    "    \n",
    "    df = df.dropna(subset=['price']).copy()\n",
    "    \n",
    "    #Remove dollar signs\n",
    "    fees = df[['price']].columns\n",
    "    for col in fees:\n",
    "        df[col] = df[col].astype(str).str.replace('$','')\n",
    "        df[col] = df[col].astype(str).str.replace(',','').astype('float') \n",
    "            \n",
    "    # Fill numeric columns with the mean\n",
    "    num_df = df[['price']].columns\n",
    "    for col in num_df:\n",
    "        df[col].fillna((df[col].mean()), inplace=True)\n",
    "    \n",
    "    #Convert the Date column in datetime\n",
    "    df['date'] =pd.to_datetime(df['date']).copy()\n",
    "    \n",
    "    #Create split date into Day, month and year\n",
    "    df['Year'] = df['date'].apply(lambda time: time.year)\n",
    "    df['Month'] = df['date'].apply(lambda time: time.month)\n",
    "    df['Day of Week'] = df['date'].apply(lambda time: time.dayofweek)\n",
    "    \n",
    "    #Convert day of week to Name\n",
    "    dmap = {0:'Mon',1:'Tue',2:'Wed',3:'Thu',4:'Fri',5:'Sat',6:'Sun'}\n",
    "    df['Day of Week'] = df['Day of Week'].map(dmap)\n",
    "    \n",
    "    #Convert day of Month\n",
    "    mmap = {1:'Jan',2:'Feb',3:'Mar',4:'Apr',5:'May',6:'Jun',7:'Jul',8:'Aug',9:'Sep',10:'Oct',11:'Nov',12:'Dec'}\n",
    "    df['Month'] = df['Month'].map(mmap)\n",
    "    return df "
   ]
  },
  {
   "cell_type": "code",
   "execution_count": 7,
   "metadata": {},
   "outputs": [],
   "source": [
    "clean_calendar = clean_calendar(df)"
   ]
  },
  {
   "cell_type": "code",
   "execution_count": 8,
   "metadata": {},
   "outputs": [
    {
     "name": "stdout",
     "output_type": "stream",
     "text": [
      "<class 'pandas.core.frame.DataFrame'>\n",
      "Int64Index: 934542 entries, 0 to 1393213\n",
      "Data columns (total 7 columns):\n",
      "listing_id     934542 non-null int64\n",
      "date           934542 non-null datetime64[ns]\n",
      "available      934542 non-null object\n",
      "price          934542 non-null float64\n",
      "Year           934542 non-null int64\n",
      "Month          934542 non-null object\n",
      "Day of Week    934542 non-null object\n",
      "dtypes: datetime64[ns](1), float64(1), int64(2), object(3)\n",
      "memory usage: 57.0+ MB\n"
     ]
    }
   ],
   "source": [
    "clean_calendar .info()"
   ]
  },
  {
   "cell_type": "code",
   "execution_count": 9,
   "metadata": {},
   "outputs": [
    {
     "data": {
      "text/plain": [
       "count    934542.000000\n",
       "mean        137.944859\n",
       "std         105.062870\n",
       "min          10.000000\n",
       "25%          75.000000\n",
       "50%         109.000000\n",
       "75%         160.000000\n",
       "max        1650.000000\n",
       "Name: price, dtype: float64"
      ]
     },
     "execution_count": 9,
     "metadata": {},
     "output_type": "execute_result"
    }
   ],
   "source": [
    "# Statistical summary of the prices\n",
    "clean_calendar['price'].describe()"
   ]
  },
  {
   "cell_type": "code",
   "execution_count": 10,
   "metadata": {},
   "outputs": [
    {
     "data": {
      "image/png": "[encoded data removed]",
      "text/plain": [
       "<Figure size 864x576 with 1 Axes>"
      ]
     },
     "metadata": {
      "needs_background": "light"
     },
     "output_type": "display_data"
    }
   ],
   "source": [
    "# Prices \n",
    "plt.figure(figsize=(12, 8))\n",
    "clean_calendar['price'].plot(c='r')\n",
    "plt.ylabel('Price')\n",
    "plt.title('Prices in Seattle from January 2016 to January 2017');"
   ]
  },
  {
   "cell_type": "code",
   "execution_count": 11,
   "metadata": {},
   "outputs": [
    {
     "data": {
      "image/png": "[encoded data removed]",
      "text/plain": [
       "<Figure size 864x576 with 1 Axes>"
      ]
     },
     "metadata": {
      "needs_background": "light"
     },
     "output_type": "display_data"
    }
   ],
   "source": [
    "plt.figure(figsize=(12, 8))\n",
    "clean_calendar['price'].hist()\n",
    "plt.title('Histogram showing the distribution of the listings prices');"
   ]
  },
  {
   "cell_type": "markdown",
   "metadata": {},
   "source": [
    "# Modelling\n",
    "* In this section we use the customarized function Stat_description to analyse how the prices change with the different calendar features.\n",
    "* Since the available data was limited to 2016, we will mainly focus on the days of the week, months and seasons. "
   ]
  },
  {
   "cell_type": "markdown",
   "metadata": {},
   "source": [
    "# How do the listing prices vary during the calendar?"
   ]
  },
  {
   "cell_type": "markdown",
   "metadata": {},
   "source": [
    "### How do the prices vary with the days of the week?"
   ]
  },
  {
   "cell_type": "code",
   "execution_count": 12,
   "metadata": {},
   "outputs": [
    {
     "data": {
      "text/html": [
       "<div>\n",
       "<style scoped>\n",
       "    .dataframe tbody tr th:only-of-type {\n",
       "        vertical-align: middle;\n",
       "    }\n",
       "\n",
       "    .dataframe tbody tr th {\n",
       "        vertical-align: top;\n",
       "    }\n",
       "\n",
       "    .dataframe thead th {\n",
       "        text-align: right;\n",
       "    }\n",
       "</style>\n",
       "<table border=\"1\" class=\"dataframe\">\n",
       "  <thead>\n",
       "    <tr style=\"text-align: right;\">\n",
       "      <th></th>\n",
       "      <th>mean_price</th>\n",
       "      <th>median_price</th>\n",
       "      <th>std_price</th>\n",
       "      <th>max_price</th>\n",
       "      <th>min_price</th>\n",
       "      <th>5th perc_price</th>\n",
       "      <th>95th perc_price</th>\n",
       "    </tr>\n",
       "  </thead>\n",
       "  <tbody>\n",
       "    <tr>\n",
       "      <th>Fri</th>\n",
       "      <td>143.036294</td>\n",
       "      <td>111.0</td>\n",
       "      <td>107.347692</td>\n",
       "      <td>1650.0</td>\n",
       "      <td>20.0</td>\n",
       "      <td>111.0</td>\n",
       "      <td>350.0</td>\n",
       "    </tr>\n",
       "    <tr>\n",
       "      <th>Mon</th>\n",
       "      <td>135.676414</td>\n",
       "      <td>105.0</td>\n",
       "      <td>104.007297</td>\n",
       "      <td>1650.0</td>\n",
       "      <td>10.0</td>\n",
       "      <td>105.0</td>\n",
       "      <td>325.0</td>\n",
       "    </tr>\n",
       "    <tr>\n",
       "      <th>Sat</th>\n",
       "      <td>143.202136</td>\n",
       "      <td>113.0</td>\n",
       "      <td>107.441564</td>\n",
       "      <td>1650.0</td>\n",
       "      <td>20.0</td>\n",
       "      <td>113.0</td>\n",
       "      <td>350.0</td>\n",
       "    </tr>\n",
       "    <tr>\n",
       "      <th>Sun</th>\n",
       "      <td>136.459941</td>\n",
       "      <td>105.0</td>\n",
       "      <td>104.225783</td>\n",
       "      <td>1650.0</td>\n",
       "      <td>20.0</td>\n",
       "      <td>105.0</td>\n",
       "      <td>325.0</td>\n",
       "    </tr>\n",
       "    <tr>\n",
       "      <th>Thu</th>\n",
       "      <td>136.476032</td>\n",
       "      <td>105.0</td>\n",
       "      <td>104.707416</td>\n",
       "      <td>1650.0</td>\n",
       "      <td>12.0</td>\n",
       "      <td>105.0</td>\n",
       "      <td>333.0</td>\n",
       "    </tr>\n",
       "    <tr>\n",
       "      <th>Tue</th>\n",
       "      <td>135.408764</td>\n",
       "      <td>105.0</td>\n",
       "      <td>103.762102</td>\n",
       "      <td>1650.0</td>\n",
       "      <td>20.0</td>\n",
       "      <td>105.0</td>\n",
       "      <td>325.0</td>\n",
       "    </tr>\n",
       "    <tr>\n",
       "      <th>Wed</th>\n",
       "      <td>135.447880</td>\n",
       "      <td>105.0</td>\n",
       "      <td>103.555339</td>\n",
       "      <td>1650.0</td>\n",
       "      <td>20.0</td>\n",
       "      <td>105.0</td>\n",
       "      <td>325.0</td>\n",
       "    </tr>\n",
       "  </tbody>\n",
       "</table>\n",
       "</div>"
      ],
      "text/plain": [
       "     mean_price  median_price   std_price  max_price  min_price  \\\n",
       "Fri  143.036294         111.0  107.347692     1650.0       20.0   \n",
       "Mon  135.676414         105.0  104.007297     1650.0       10.0   \n",
       "Sat  143.202136         113.0  107.441564     1650.0       20.0   \n",
       "Sun  136.459941         105.0  104.225783     1650.0       20.0   \n",
       "Thu  136.476032         105.0  104.707416     1650.0       12.0   \n",
       "Tue  135.408764         105.0  103.762102     1650.0       20.0   \n",
       "Wed  135.447880         105.0  103.555339     1650.0       20.0   \n",
       "\n",
       "     5th perc_price  95th perc_price  \n",
       "Fri           111.0            350.0  \n",
       "Mon           105.0            325.0  \n",
       "Sat           113.0            350.0  \n",
       "Sun           105.0            325.0  \n",
       "Thu           105.0            333.0  \n",
       "Tue           105.0            325.0  \n",
       "Wed           105.0            325.0  "
      ]
     },
     "execution_count": 12,
     "metadata": {},
     "output_type": "execute_result"
    }
   ],
   "source": [
    "# Pass df, col1 and col2 in the stats_description function\n",
    "stats_description(clean_calendar,\"Day of Week\",\"price\")"
   ]
  },
  {
   "cell_type": "code",
   "execution_count": 13,
   "metadata": {},
   "outputs": [
    {
     "data": {
      "image/png": "[encoded data removed]",
      "text/plain": [
       "<Figure size 720x576 with 1 Axes>"
      ]
     },
     "metadata": {
      "needs_background": "light"
     },
     "output_type": "display_data"
    }
   ],
   "source": [
    "# Barplot\n",
    "plt.figure(figsize=(10, 8))\n",
    "ax = sns.barplot(x=\"Day of Week\", y=\"price\",data=clean_calendar,palette='viridis');\n",
    "plt.title('The average price per day of the week in Seattle (Year 2016)');"
   ]
  },
  {
   "cell_type": "markdown",
   "metadata": {},
   "source": [
    "# Results\n",
    "* On avearge the prices are highest on Friday and Saturday.\n",
    " This is expected because people tend to go for weekend get-aways hence a slight increase in the demand for accomodation.\n",
    "* The prices from Monday to Thursday are relatively lower and fixed compared with the former."
   ]
  },
  {
   "cell_type": "markdown",
   "metadata": {},
   "source": [
    "### How do the prices vary with the months?"
   ]
  },
  {
   "cell_type": "code",
   "execution_count": 14,
   "metadata": {},
   "outputs": [
    {
     "data": {
      "text/html": [
       "<div>\n",
       "<style scoped>\n",
       "    .dataframe tbody tr th:only-of-type {\n",
       "        vertical-align: middle;\n",
       "    }\n",
       "\n",
       "    .dataframe tbody tr th {\n",
       "        vertical-align: top;\n",
       "    }\n",
       "\n",
       "    .dataframe thead th {\n",
       "        text-align: right;\n",
       "    }\n",
       "</style>\n",
       "<table border=\"1\" class=\"dataframe\">\n",
       "  <thead>\n",
       "    <tr style=\"text-align: right;\">\n",
       "      <th></th>\n",
       "      <th>mean_price</th>\n",
       "      <th>median_price</th>\n",
       "      <th>std_price</th>\n",
       "      <th>max_price</th>\n",
       "      <th>min_price</th>\n",
       "      <th>5th perc_price</th>\n",
       "      <th>95th perc_price</th>\n",
       "    </tr>\n",
       "  </thead>\n",
       "  <tbody>\n",
       "    <tr>\n",
       "      <th>Apr</th>\n",
       "      <td>135.097005</td>\n",
       "      <td>110.0</td>\n",
       "      <td>98.232098</td>\n",
       "      <td>1099.0</td>\n",
       "      <td>20.0</td>\n",
       "      <td>110.0</td>\n",
       "      <td>300.0</td>\n",
       "    </tr>\n",
       "    <tr>\n",
       "      <th>Aug</th>\n",
       "      <td>150.656594</td>\n",
       "      <td>114.0</td>\n",
       "      <td>118.754189</td>\n",
       "      <td>1250.0</td>\n",
       "      <td>20.0</td>\n",
       "      <td>114.0</td>\n",
       "      <td>399.0</td>\n",
       "    </tr>\n",
       "    <tr>\n",
       "      <th>Dec</th>\n",
       "      <td>137.251835</td>\n",
       "      <td>109.0</td>\n",
       "      <td>105.101659</td>\n",
       "      <td>1650.0</td>\n",
       "      <td>20.0</td>\n",
       "      <td>109.0</td>\n",
       "      <td>325.0</td>\n",
       "    </tr>\n",
       "    <tr>\n",
       "      <th>Feb</th>\n",
       "      <td>124.293927</td>\n",
       "      <td>100.0</td>\n",
       "      <td>91.550076</td>\n",
       "      <td>1000.0</td>\n",
       "      <td>20.0</td>\n",
       "      <td>100.0</td>\n",
       "      <td>275.0</td>\n",
       "    </tr>\n",
       "    <tr>\n",
       "      <th>Jan</th>\n",
       "      <td>122.912176</td>\n",
       "      <td>99.0</td>\n",
       "      <td>88.708143</td>\n",
       "      <td>1000.0</td>\n",
       "      <td>12.0</td>\n",
       "      <td>99.0</td>\n",
       "      <td>275.0</td>\n",
       "    </tr>\n",
       "    <tr>\n",
       "      <th>Jul</th>\n",
       "      <td>152.094150</td>\n",
       "      <td>115.0</td>\n",
       "      <td>120.078098</td>\n",
       "      <td>1240.0</td>\n",
       "      <td>20.0</td>\n",
       "      <td>115.0</td>\n",
       "      <td>400.0</td>\n",
       "    </tr>\n",
       "    <tr>\n",
       "      <th>Jun</th>\n",
       "      <td>147.473137</td>\n",
       "      <td>110.0</td>\n",
       "      <td>112.481803</td>\n",
       "      <td>1099.0</td>\n",
       "      <td>20.0</td>\n",
       "      <td>110.0</td>\n",
       "      <td>375.0</td>\n",
       "    </tr>\n",
       "    <tr>\n",
       "      <th>Mar</th>\n",
       "      <td>128.644488</td>\n",
       "      <td>100.0</td>\n",
       "      <td>94.371410</td>\n",
       "      <td>1099.0</td>\n",
       "      <td>20.0</td>\n",
       "      <td>100.0</td>\n",
       "      <td>285.0</td>\n",
       "    </tr>\n",
       "    <tr>\n",
       "      <th>May</th>\n",
       "      <td>139.538183</td>\n",
       "      <td>110.0</td>\n",
       "      <td>102.863280</td>\n",
       "      <td>1099.0</td>\n",
       "      <td>20.0</td>\n",
       "      <td>110.0</td>\n",
       "      <td>325.0</td>\n",
       "    </tr>\n",
       "    <tr>\n",
       "      <th>Nov</th>\n",
       "      <td>135.688738</td>\n",
       "      <td>106.0</td>\n",
       "      <td>104.264654</td>\n",
       "      <td>1650.0</td>\n",
       "      <td>10.0</td>\n",
       "      <td>106.0</td>\n",
       "      <td>315.0</td>\n",
       "    </tr>\n",
       "    <tr>\n",
       "      <th>Oct</th>\n",
       "      <td>137.031939</td>\n",
       "      <td>109.0</td>\n",
       "      <td>104.491505</td>\n",
       "      <td>1650.0</td>\n",
       "      <td>20.0</td>\n",
       "      <td>109.0</td>\n",
       "      <td>320.0</td>\n",
       "    </tr>\n",
       "    <tr>\n",
       "      <th>Sep</th>\n",
       "      <td>143.255949</td>\n",
       "      <td>110.0</td>\n",
       "      <td>108.804290</td>\n",
       "      <td>1450.0</td>\n",
       "      <td>20.0</td>\n",
       "      <td>110.0</td>\n",
       "      <td>350.0</td>\n",
       "    </tr>\n",
       "  </tbody>\n",
       "</table>\n",
       "</div>"
      ],
      "text/plain": [
       "     mean_price  median_price   std_price  max_price  min_price  \\\n",
       "Apr  135.097005         110.0   98.232098     1099.0       20.0   \n",
       "Aug  150.656594         114.0  118.754189     1250.0       20.0   \n",
       "Dec  137.251835         109.0  105.101659     1650.0       20.0   \n",
       "Feb  124.293927         100.0   91.550076     1000.0       20.0   \n",
       "Jan  122.912176          99.0   88.708143     1000.0       12.0   \n",
       "Jul  152.094150         115.0  120.078098     1240.0       20.0   \n",
       "Jun  147.473137         110.0  112.481803     1099.0       20.0   \n",
       "Mar  128.644488         100.0   94.371410     1099.0       20.0   \n",
       "May  139.538183         110.0  102.863280     1099.0       20.0   \n",
       "Nov  135.688738         106.0  104.264654     1650.0       10.0   \n",
       "Oct  137.031939         109.0  104.491505     1650.0       20.0   \n",
       "Sep  143.255949         110.0  108.804290     1450.0       20.0   \n",
       "\n",
       "     5th perc_price  95th perc_price  \n",
       "Apr           110.0            300.0  \n",
       "Aug           114.0            399.0  \n",
       "Dec           109.0            325.0  \n",
       "Feb           100.0            275.0  \n",
       "Jan            99.0            275.0  \n",
       "Jul           115.0            400.0  \n",
       "Jun           110.0            375.0  \n",
       "Mar           100.0            285.0  \n",
       "May           110.0            325.0  \n",
       "Nov           106.0            315.0  \n",
       "Oct           109.0            320.0  \n",
       "Sep           110.0            350.0  "
      ]
     },
     "execution_count": 14,
     "metadata": {},
     "output_type": "execute_result"
    }
   ],
   "source": [
    "# Pass df, col1 and col2 in the stats_description function\n",
    "stats_description(clean_calendar,\"Month\",\"price\")"
   ]
  },
  {
   "cell_type": "code",
   "execution_count": 15,
   "metadata": {},
   "outputs": [
    {
     "data": {
      "image/png": "[encoded data removed]",
      "text/plain": [
       "<Figure size 720x576 with 1 Axes>"
      ]
     },
     "metadata": {
      "needs_background": "light"
     },
     "output_type": "display_data"
    }
   ],
   "source": [
    "# Barplot\n",
    "plt.figure(figsize=(10,8))\n",
    "ax = sns.barplot(x=\"Month\", y=\"price\",data=clean_calendar,palette='Set2');\n",
    "plt.title('The average price per month in Seattle (Year 2016)');\n"
   ]
  },
  {
   "cell_type": "markdown",
   "metadata": {},
   "source": [
    "# Results\n",
    "* On average prices are highest in July. This is expected since this is the peak of the summer season.\n",
    "* On average prices are lowest in January and February. \n",
    "  This is expected since these are winter months with less out-door activities and holidays hence relatively less travels and demand for accomodation."
   ]
  },
  {
   "cell_type": "markdown",
   "metadata": {},
   "source": [
    "### How do the prices vary in the days of the week in the months?\n",
    "* To answer this question, I use a barplot to visualize the 3 variables in question (price, day of the week and month)"
   ]
  },
  {
   "cell_type": "code",
   "execution_count": 16,
   "metadata": {},
   "outputs": [
    {
     "data": {
      "image/png": "[encoded data removed]",
      "text/plain": [
       "<Figure size 720x576 with 1 Axes>"
      ]
     },
     "metadata": {
      "needs_background": "light"
     },
     "output_type": "display_data"
    }
   ],
   "source": [
    "plt.figure(figsize=(10,8))\n",
    "sns.barplot(x=\"Day of Week\",y='price',data=clean_calendar,hue='Month',palette='Set1')\n",
    "plt.legend(bbox_to_anchor=(1.05, 1), loc=2, borderaxespad=0.)\n",
    "plt.title('The daily average  price in Seattle per month (Year 2016)');"
   ]
  },
  {
   "cell_type": "markdown",
   "metadata": {},
   "source": [
    "# Results\n",
    "* We see that there is a clear seasonal pattern of the prices during the year.\n",
    "* In the days of the week we see that prices are higher during the weekend i.e Saturday and Friday compared to the week days.\n",
    "* The prices are relatively higher in during the summer months i.e. July, August and June in that order.\n",
    "* On the other hand, the prices are lowere in the winter months i.e. January, February and March in that order."
   ]
  },
  {
   "cell_type": "code",
   "execution_count": null,
   "metadata": {},
   "outputs": [],
   "source": []
  },
  {
   "cell_type": "code",
   "execution_count": null,
   "metadata": {},
   "outputs": [],
   "source": []
  }
 ],
 "metadata": {
  "kernelspec": {
   "display_name": "Python 3",
   "language": "python",
   "name": "python3"
  },
  "language_info": {
   "codemirror_mode": {
    "name": "ipython",
    "version": 3
   },
   "file_extension": ".py",
   "mimetype": "text/x-python",
   "name": "python",
   "nbconvert_exporter": "python",
   "pygments_lexer": "ipython3",
   "version": "3.7.3"
  }
 },
 "nbformat": 4,
 "nbformat_minor": 2
}
